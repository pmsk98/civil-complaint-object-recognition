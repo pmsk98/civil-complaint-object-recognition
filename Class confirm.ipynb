{
 "cells": [
  {
   "cell_type": "code",
   "execution_count": 9,
   "metadata": {},
   "outputs": [],
   "source": [
    "import os"
   ]
  },
  {
   "cell_type": "code",
   "execution_count": 10,
   "metadata": {},
   "outputs": [],
   "source": [
    "c0f = os.listdir(\"./dataset/train/images/가로현수막\")\n",
    "c1f = os.listdir(\"./dataset/train/images/간이의자\")\n",
    "c2f = os.listdir(\"./dataset/train/images/간이테이블\")\n",
    "c3f = os.listdir(\"./dataset/train/images/간이표지판\")\n",
    "c4f = os.listdir(\"./dataset/train/images/비포장쓰레기\")\n",
    "c5f = os.listdir(\"./dataset/train/images/비활성에어간판\")\n",
    "c6f = os.listdir(\"./dataset/train/images/세로현수막\")\n",
    "c7f = os.listdir(\"./dataset/train/images/엑스배너\")\n",
    "c8f = os.listdir(\"./dataset/train/images/포장쓰레기\")\n",
    "c9f = os.listdir(\"./dataset/train/images/활성에어간판\")"
   ]
  },
  {
   "cell_type": "code",
   "execution_count": 11,
   "metadata": {},
   "outputs": [],
   "source": [
    "c0 = list(map(lambda x: x.split(\"_\")[0], c0f))\n",
    "c1 = list(map(lambda x: x.split(\"_\")[0], c1f))\n",
    "c2 = list(map(lambda x: x.split(\"_\")[0], c2f))\n",
    "c3 = list(map(lambda x: x.split(\"_\")[0], c3f))\n",
    "c4 = list(map(lambda x: x.split(\"_\")[0], c4f))\n",
    "c5 = list(map(lambda x: x.split(\"_\")[0], c5f))\n",
    "c6 = list(map(lambda x: x.split(\"_\")[0], c6f))\n",
    "c7 = list(map(lambda x: x.split(\"_\")[0], c7f))\n",
    "c8 = list(map(lambda x: x.split(\"_\")[0], c8f))\n",
    "c9 = list(map(lambda x: x.split(\"_\")[0], c9f))"
   ]
  },
  {
   "cell_type": "code",
   "execution_count": 20,
   "metadata": {},
   "outputs": [],
   "source": [
    "def list_count(list_obj):\n",
    "    objs = set(list_obj)\n",
    "    for obj in objs:\n",
    "        print(\"{}: {}\".format(obj,list_obj.count(obj)))"
   ]
  },
  {
   "cell_type": "code",
   "execution_count": 21,
   "metadata": {},
   "outputs": [
    {
     "name": "stdout",
     "output_type": "stream",
     "text": [
      "9: 6000\n",
      "10: 4000\n"
     ]
    }
   ],
   "source": [
    "list_count(c0)"
   ]
  },
  {
   "cell_type": "code",
   "execution_count": 22,
   "metadata": {},
   "outputs": [
    {
     "name": "stdout",
     "output_type": "stream",
     "text": [
      "27: 6000\n",
      "28: 4000\n"
     ]
    }
   ],
   "source": [
    "list_count(c1)"
   ]
  },
  {
   "cell_type": "code",
   "execution_count": 23,
   "metadata": {},
   "outputs": [
    {
     "name": "stdout",
     "output_type": "stream",
     "text": [
      "25: 6000\n",
      "26: 4000\n"
     ]
    }
   ],
   "source": [
    "list_count(c2)"
   ]
  },
  {
   "cell_type": "code",
   "execution_count": 24,
   "metadata": {},
   "outputs": [
    {
     "name": "stdout",
     "output_type": "stream",
     "text": [
      "30: 4000\n",
      "29: 6000\n"
     ]
    }
   ],
   "source": [
    "list_count(c3)"
   ]
  },
  {
   "cell_type": "code",
   "execution_count": 25,
   "metadata": {},
   "outputs": [
    {
     "name": "stdout",
     "output_type": "stream",
     "text": [
      "7: 3000\n",
      "8: 2000\n",
      "3: 3000\n",
      "4: 2000\n"
     ]
    }
   ],
   "source": [
    "list_count(c4)"
   ]
  },
  {
   "cell_type": "code",
   "execution_count": 26,
   "metadata": {},
   "outputs": [
    {
     "name": "stdout",
     "output_type": "stream",
     "text": [
      "21: 6000\n",
      "22: 4000\n"
     ]
    }
   ],
   "source": [
    "list_count(c5)"
   ]
  },
  {
   "cell_type": "code",
   "execution_count": 27,
   "metadata": {},
   "outputs": [
    {
     "name": "stdout",
     "output_type": "stream",
     "text": [
      "11: 6000\n",
      "12: 4000\n"
     ]
    }
   ],
   "source": [
    "list_count(c6)"
   ]
  },
  {
   "cell_type": "code",
   "execution_count": 28,
   "metadata": {},
   "outputs": [
    {
     "name": "stdout",
     "output_type": "stream",
     "text": [
      "19: 6000\n",
      "20: 4000\n"
     ]
    }
   ],
   "source": [
    "list_count(c7)"
   ]
  },
  {
   "cell_type": "code",
   "execution_count": 29,
   "metadata": {},
   "outputs": [
    {
     "name": "stdout",
     "output_type": "stream",
     "text": [
      "2: 2000\n",
      "1: 3000\n",
      "6: 2000\n",
      "5: 3000\n"
     ]
    }
   ],
   "source": [
    "list_count(c8)"
   ]
  },
  {
   "cell_type": "code",
   "execution_count": 30,
   "metadata": {},
   "outputs": [
    {
     "name": "stdout",
     "output_type": "stream",
     "text": [
      "23: 4000\n",
      "24: 6000\n"
     ]
    }
   ],
   "source": [
    "list_count(c9)"
   ]
  }
 ],
 "metadata": {
  "kernelspec": {
   "display_name": "Python 3",
   "language": "python",
   "name": "python3"
  },
  "language_info": {
   "codemirror_mode": {
    "name": "ipython",
    "version": 3
   },
   "file_extension": ".py",
   "mimetype": "text/x-python",
   "name": "python",
   "nbconvert_exporter": "python",
   "pygments_lexer": "ipython3",
   "version": "3.6.4"
  }
 },
 "nbformat": 4,
 "nbformat_minor": 4
}
